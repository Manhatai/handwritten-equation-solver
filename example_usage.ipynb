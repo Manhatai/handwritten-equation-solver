{
 "cells": [
  {
   "cell_type": "code",
   "execution_count": null,
   "id": "initial_id",
   "metadata": {
    "collapsed": true,
    "ExecuteTime": {
     "end_time": "2024-03-29T14:13:23.554685800Z",
     "start_time": "2024-03-29T14:13:23.553685Z"
    }
   },
   "outputs": [],
   "source": [
    "import numpy as np\n",
    "import keras\n",
    "import tensorflow as tf\n",
    "import PIL\n",
    "import cv2\n",
    "\n",
    "my_model = keras.saving.load_model('equation_solver.keras', custom_objects=None, compile=True, safe_mode=True)\n",
    "\n",
    "my_model.summary()"
   ]
  },
  {
   "cell_type": "code",
   "execution_count": null,
   "outputs": [],
   "source": [
    "IMG_WIDTH = 45\n",
    "IMG_HEIGHT = 45\n",
    "class_names = ['!', '(', ')', '+', ',', '-', '0', '1', '2', '3', '4', '5', '6', '7', '8', '9', '=', 'A', 'C', 'Delta', 'G', 'H', 'M', 'N', 'R', 'S', 'T', 'X', '[', ']', 'alpha', 'ascii_124', 'b', 'beta', 'cos', 'd', 'div', 'e', 'exists', 'f', 'forall', 'forward_slash', 'gamma', 'geq', 'gt', 'i', 'in', 'infty', 'int', 'j', 'k', 'l', 'lambda', 'ldots', 'leq', 'lim', 'log', 'lt', 'mu', 'neq', 'o', 'p', 'phi', 'pi', 'pm', 'prime', 'q', 'rightarrow', 'sigma', 'sin', 'sqrt', 'sum', 'tan', 'theta', 'times', 'u', 'v', 'w', 'y', 'z', '{', '}']"
   ],
   "metadata": {
    "collapsed": false,
    "ExecuteTime": {
     "end_time": "2024-03-29T14:13:23.555686700Z",
     "start_time": "2024-03-29T14:13:23.554685800Z"
    }
   },
   "id": "23805364a594923b"
  },
  {
   "cell_type": "code",
   "execution_count": 33,
   "outputs": [
    {
     "name": "stdout",
     "output_type": "stream",
     "text": [
      "\u001B[1m1/1\u001B[0m \u001B[32m━━━━━━━━━━━━━━━━━━━━\u001B[0m\u001B[37m\u001B[0m \u001B[1m0s\u001B[0m 73ms/step\n",
      "This image most likely belongs to 7 with a 96.81 percent confidence.\n"
     ]
    }
   ],
   "source": [
    "img = PIL.Image.open('examples/seven.png').convert('L')\n",
    "img = img.resize((IMG_WIDTH, IMG_HEIGHT))\n",
    "img_array = keras.utils.img_to_array(img)\n",
    "img_array = tf.expand_dims(img_array, 0)\n",
    "\n",
    "predictions = my_model.predict(img_array)\n",
    "score = tf.nn.softmax(predictions[0])\n",
    "\n",
    "print(\n",
    "    \"This image most likely belongs to {} with a {:.2f} percent confidence.\"\n",
    "    .format(class_names[np.argmax(score)], 100 * np.max(score))\n",
    ")"
   ],
   "metadata": {
    "collapsed": false,
    "ExecuteTime": {
     "end_time": "2024-03-29T21:45:17.385658500Z",
     "start_time": "2024-03-29T21:45:17.276590600Z"
    }
   },
   "id": "63180ed267581c28"
  },
  {
   "cell_type": "markdown",
   "source": [
    ":)"
   ],
   "metadata": {
    "collapsed": false
   },
   "id": "f98de939b34f0758"
  },
  {
   "cell_type": "code",
   "execution_count": 34,
   "outputs": [],
   "source": [
    "image = cv2.imread('examples/2plus2.jpg', 0)\n",
    "cv2.imshow('Original', image)\n",
    "cv2.waitKey(0)\n",
    "cv2.destroyAllWindows()"
   ],
   "metadata": {
    "collapsed": false,
    "ExecuteTime": {
     "end_time": "2024-03-29T21:45:19.936697100Z",
     "start_time": "2024-03-29T21:45:18.860018800Z"
    }
   },
   "id": "f856afa9ab7a97c9"
  },
  {
   "cell_type": "code",
   "execution_count": 35,
   "outputs": [],
   "source": [
    "binary_image = cv2.adaptiveThreshold(image, 255, cv2.ADAPTIVE_THRESH_MEAN_C, cv2.THRESH_BINARY_INV, 11, 4)\n",
    "\n",
    "cv2.imshow('Binary Image', binary_image)\n",
    "cv2.waitKey(0)\n",
    "cv2.destroyAllWindows()"
   ],
   "metadata": {
    "collapsed": false,
    "ExecuteTime": {
     "end_time": "2024-03-29T21:45:21.795751Z",
     "start_time": "2024-03-29T21:45:20.887530500Z"
    }
   },
   "id": "e46639e2689c51e6"
  },
  {
   "cell_type": "code",
   "execution_count": 36,
   "outputs": [],
   "source": [
    "contours, _ = cv2.findContours(binary_image, cv2.RETR_EXTERNAL, cv2.CHAIN_APPROX_SIMPLE)\n",
    "contours = sorted(contours, key=lambda x: cv2.boundingRect(x)[0])\n",
    "contour_image = cv2.cvtColor(image, cv2.COLOR_GRAY2BGR)\n",
    "for contour in contours:\n",
    "    x, y, w, h = cv2.boundingRect(contour)\n",
    "    cv2.rectangle(contour_image, (x, y), (x + w, y + h), (0, 255, 0), 2)\n",
    "\n",
    "cv2.imshow('Contours', contour_image)\n",
    "cv2.waitKey(0)\n",
    "cv2.destroyAllWindows()"
   ],
   "metadata": {
    "collapsed": false,
    "ExecuteTime": {
     "end_time": "2024-03-29T21:45:22.989373700Z",
     "start_time": "2024-03-29T21:45:22.266732400Z"
    }
   },
   "id": "cafd66c895dd5769"
  },
  {
   "cell_type": "code",
   "execution_count": 37,
   "outputs": [],
   "source": [
    "filtered_rectangles = []\n",
    "for contour in contours:\n",
    "    x, y, w, h = cv2.boundingRect(contour)\n",
    "    new_rect = (x, y, x + w, y + h)\n",
    "\n",
    "    overlap = False\n",
    "    for rect in filtered_rectangles:\n",
    "        if (new_rect[0] < rect[2] and new_rect[2] > rect[0] and\n",
    "            new_rect[1] < rect[3] and new_rect[3] > rect[1]):\n",
    "            overlap = True\n",
    "            break\n",
    "    \n",
    "    if not overlap:\n",
    "        filtered_rectangles.append(new_rect)\n",
    "\n",
    "contour_image = cv2.cvtColor(image, cv2.COLOR_GRAY2BGR)\n",
    "for rect in filtered_rectangles:\n",
    "    cv2.rectangle(contour_image, (rect[0], rect[1]), (rect[2], rect[3]), (0, 255, 0), 2)\n",
    "\n",
    "cv2.imshow('Bounding Rectangles', contour_image)\n",
    "cv2.waitKey(0)\n",
    "cv2.destroyAllWindows()"
   ],
   "metadata": {
    "collapsed": false,
    "ExecuteTime": {
     "end_time": "2024-03-29T21:45:26.227300900Z",
     "start_time": "2024-03-29T21:45:23.408903900Z"
    }
   },
   "id": "b1681882bf967392"
  },
  {
   "cell_type": "code",
   "execution_count": null,
   "outputs": [],
   "source": [
    "# Resize all the remaining bounding rectangle to 28 by 28.\n",
    "# Using our model, predict the corresponding digit/symbol for each bounding rectangle and store it in a string."
   ],
   "metadata": {
    "collapsed": false
   },
   "id": "ea8c34e867bfc2df"
  }
 ],
 "metadata": {
  "kernelspec": {
   "display_name": "Python 3",
   "language": "python",
   "name": "python3"
  },
  "language_info": {
   "codemirror_mode": {
    "name": "ipython",
    "version": 2
   },
   "file_extension": ".py",
   "mimetype": "text/x-python",
   "name": "python",
   "nbconvert_exporter": "python",
   "pygments_lexer": "ipython2",
   "version": "2.7.6"
  }
 },
 "nbformat": 4,
 "nbformat_minor": 5
}
